{
 "cells": [
  {
   "cell_type": "code",
   "execution_count": 1,
   "id": "29504463-f564-4ae8-a2cd-168c71dbee0a",
   "metadata": {},
   "outputs": [],
   "source": [
    "import numpy as np\n",
    "import pandas as pd"
   ]
  },
  {
   "cell_type": "code",
   "execution_count": 2,
   "id": "c16ff50c-8070-4e0b-89ad-05adfdbb4bff",
   "metadata": {},
   "outputs": [
    {
     "data": {
      "text/html": [
       "<div>\n",
       "<style scoped>\n",
       "    .dataframe tbody tr th:only-of-type {\n",
       "        vertical-align: middle;\n",
       "    }\n",
       "\n",
       "    .dataframe tbody tr th {\n",
       "        vertical-align: top;\n",
       "    }\n",
       "\n",
       "    .dataframe thead th {\n",
       "        text-align: right;\n",
       "    }\n",
       "</style>\n",
       "<table border=\"1\" class=\"dataframe\">\n",
       "  <thead>\n",
       "    <tr style=\"text-align: right;\">\n",
       "      <th></th>\n",
       "      <th>Intervention_descriptor</th>\n",
       "      <th>tax_increase</th>\n",
       "      <th>outlet_reduction</th>\n",
       "      <th>dec_smoking_prevalence</th>\n",
       "      <th>dec_tobacco_supply</th>\n",
       "      <th>dec_smoking_uptake</th>\n",
       "      <th>age</th>\n",
       "      <th>gender</th>\n",
       "      <th>ethnicity</th>\n",
       "      <th>discount_rate</th>\n",
       "      <th>evidence_strength</th>\n",
       "      <th>qalys_pc</th>\n",
       "      <th>hs_costs_pc</th>\n",
       "    </tr>\n",
       "  </thead>\n",
       "  <tbody>\n",
       "    <tr>\n",
       "      <th>1</th>\n",
       "      <td>Combined tobacco endgame strategy (tobacco-fre...</td>\n",
       "      <td>10</td>\n",
       "      <td>90</td>\n",
       "      <td>7</td>\n",
       "      <td>0</td>\n",
       "      <td>0</td>\n",
       "      <td>0-14</td>\n",
       "      <td>Male</td>\n",
       "      <td>non-Māori</td>\n",
       "      <td>0</td>\n",
       "      <td>NaN</td>\n",
       "      <td>40.865526</td>\n",
       "      <td>-1284765.096725</td>\n",
       "    </tr>\n",
       "    <tr>\n",
       "      <th>2</th>\n",
       "      <td>Combined tobacco endgame strategy (tobacco-fre...</td>\n",
       "      <td>10</td>\n",
       "      <td>90</td>\n",
       "      <td>7</td>\n",
       "      <td>0</td>\n",
       "      <td>0</td>\n",
       "      <td>15-24</td>\n",
       "      <td>Male</td>\n",
       "      <td>non-Māori</td>\n",
       "      <td>0</td>\n",
       "      <td>NaN</td>\n",
       "      <td>41.708939</td>\n",
       "      <td>-1270055.987675</td>\n",
       "    </tr>\n",
       "    <tr>\n",
       "      <th>3</th>\n",
       "      <td>Combined tobacco endgame strategy (tobacco-fre...</td>\n",
       "      <td>10</td>\n",
       "      <td>90</td>\n",
       "      <td>7</td>\n",
       "      <td>0</td>\n",
       "      <td>0</td>\n",
       "      <td>25-44</td>\n",
       "      <td>Male</td>\n",
       "      <td>non-Māori</td>\n",
       "      <td>0</td>\n",
       "      <td>NaN</td>\n",
       "      <td>13.282615</td>\n",
       "      <td>-318700.524314</td>\n",
       "    </tr>\n",
       "    <tr>\n",
       "      <th>4</th>\n",
       "      <td>Combined tobacco endgame strategy (tobacco-fre...</td>\n",
       "      <td>10</td>\n",
       "      <td>90</td>\n",
       "      <td>1</td>\n",
       "      <td>0</td>\n",
       "      <td>0</td>\n",
       "      <td>45-64</td>\n",
       "      <td>Male</td>\n",
       "      <td>non-Māori</td>\n",
       "      <td>0</td>\n",
       "      <td>NaN</td>\n",
       "      <td>7.222291</td>\n",
       "      <td>-119003.652181</td>\n",
       "    </tr>\n",
       "    <tr>\n",
       "      <th>5</th>\n",
       "      <td>Combined tobacco endgame strategy (tobacco-fre...</td>\n",
       "      <td>10</td>\n",
       "      <td>90</td>\n",
       "      <td>0.5</td>\n",
       "      <td>0</td>\n",
       "      <td>0</td>\n",
       "      <td>65+</td>\n",
       "      <td>Male</td>\n",
       "      <td>non-Māori</td>\n",
       "      <td>0</td>\n",
       "      <td>NaN</td>\n",
       "      <td>1.111505</td>\n",
       "      <td>-9656.694651</td>\n",
       "    </tr>\n",
       "  </tbody>\n",
       "</table>\n",
       "</div>"
      ],
      "text/plain": [
       "0                            Intervention_descriptor tax_increase  \\\n",
       "1  Combined tobacco endgame strategy (tobacco-fre...           10   \n",
       "2  Combined tobacco endgame strategy (tobacco-fre...           10   \n",
       "3  Combined tobacco endgame strategy (tobacco-fre...           10   \n",
       "4  Combined tobacco endgame strategy (tobacco-fre...           10   \n",
       "5  Combined tobacco endgame strategy (tobacco-fre...           10   \n",
       "\n",
       "0 outlet_reduction dec_smoking_prevalence dec_tobacco_supply  \\\n",
       "1               90                      7                  0   \n",
       "2               90                      7                  0   \n",
       "3               90                      7                  0   \n",
       "4               90                      1                  0   \n",
       "5               90                    0.5                  0   \n",
       "\n",
       "0 dec_smoking_uptake    age gender  ethnicity discount_rate evidence_strength  \\\n",
       "1                  0   0-14   Male  non-Māori             0               NaN   \n",
       "2                  0  15-24   Male  non-Māori             0               NaN   \n",
       "3                  0  25-44   Male  non-Māori             0               NaN   \n",
       "4                  0  45-64   Male  non-Māori             0               NaN   \n",
       "5                  0    65+   Male  non-Māori             0               NaN   \n",
       "\n",
       "0   qalys_pc     hs_costs_pc  \n",
       "1  40.865526 -1284765.096725  \n",
       "2  41.708939 -1270055.987675  \n",
       "3  13.282615  -318700.524314  \n",
       "4   7.222291  -119003.652181  \n",
       "5   1.111505    -9656.694651  "
      ]
     },
     "execution_count": 2,
     "metadata": {},
     "output_type": "execute_result"
    }
   ],
   "source": [
    "df = pd.read_excel('./Datasets/tobacco_data.xlsx')\n",
    "df.columns = df.iloc[0]\n",
    "df = df[1:]\n",
    "df.head()"
   ]
  },
  {
   "cell_type": "code",
   "execution_count": 25,
   "id": "9d3ddee5-f9e7-4256-9bf4-a338497b485d",
   "metadata": {},
   "outputs": [
    {
     "data": {
      "text/plain": [
       "np.float64(2.7297645739910315)"
      ]
     },
     "execution_count": 25,
     "metadata": {},
     "output_type": "execute_result"
    }
   ],
   "source": [
    "non_maori_sp = np.mean(df[df['ethnicity'] == 'non-Māori']['dec_smoking_prevalence'].astype('float'))\n",
    "maori_sp = np.mean(df[df['ethnicity'] == 'Māori']['dec_smoking_prevalence'].astype('float'))\n",
    "maori_sp / non_maori_sp"
   ]
  },
  {
   "cell_type": "code",
   "execution_count": 27,
   "id": "2468f050-8e32-499f-a8b6-c701382374e3",
   "metadata": {},
   "outputs": [
    {
     "data": {
      "text/plain": [
       "np.float64(1.0127886881382562)"
      ]
     },
     "execution_count": 27,
     "metadata": {},
     "output_type": "execute_result"
    }
   ],
   "source": [
    "female_sp = np.mean(df[df['gender'] == 'Female']['dec_smoking_prevalence'].astype('float'))\n",
    "male_sp = np.mean(df[df['gender'] == 'Male']['dec_smoking_prevalence'].astype('float'))\n",
    "male_sp / female_sp"
   ]
  },
  {
   "cell_type": "code",
   "execution_count": 29,
   "id": "8ade2293-c414-408b-ac4d-2d38c6fec945",
   "metadata": {},
   "outputs": [
    {
     "name": "stdout",
     "output_type": "stream",
     "text": [
      "0.9786476868327403\n",
      "1.0086647067925112\n",
      "0.5610913404507712\n",
      "0.3594306049822065\n"
     ]
    }
   ],
   "source": [
    "age_group_1_sp = np.mean(df[df['age'] == '0-14']['dec_smoking_prevalence'].astype('float'))\n",
    "age_group_2_sp = np.mean(df[df['age'] == '15-24']['dec_smoking_prevalence'].astype('float'))\n",
    "age_group_3_sp = np.mean(df[df['age'] == '25-44']['dec_smoking_prevalence'].astype('float'))\n",
    "age_group_4_sp = np.mean(df[df['age'] == '45-64']['dec_smoking_prevalence'].astype('float'))\n",
    "age_group_5_sp = np.mean(df[df['age'] == '65+']['dec_smoking_prevalence'].astype('float'))\n",
    "\n",
    "print(age_group_1_sp / age_group_3_sp)\n",
    "print(age_group_2_sp / age_group_3_sp)\n",
    "print(age_group_4_sp / age_group_3_sp)\n",
    "print(age_group_5_sp / age_group_3_sp)"
   ]
  },
  {
   "cell_type": "code",
   "execution_count": 7,
   "id": "fef2eac3-6d13-46af-a973-aa99992a6c26",
   "metadata": {},
   "outputs": [],
   "source": [
    "def build_lr(X_train, X_test, y_train, y_test):\n",
    "    # Initialize the Linear Regression model\n",
    "    model = LinearRegression()\n",
    "    \n",
    "    # Fit the model to the training data\n",
    "    model.fit(X_train, y_train)\n",
    "    \n",
    "    # Make predictions on the test set\n",
    "    y_pred = model.predict(X_test)\n",
    "    \n",
    "    # Evaluate the model\n",
    "    lr_mape = mape(y_test, y_pred)\n",
    "\n",
    "    print(\"Test MAPE for Linear Regression Model:\", lr_mape)\n",
    "    \n",
    "    return model, lr_mape"
   ]
  },
  {
   "cell_type": "code",
   "execution_count": 9,
   "id": "2cc0e532-d125-42ac-a478-21e5cdc807ea",
   "metadata": {},
   "outputs": [],
   "source": [
    "def prepare_df():\n",
    "    df = pd.read_excel('./Datasets/tobacco_data_v2.xlsx')\n",
    "    df.columns = df.iloc[0]\n",
    "    df = df[1:]\n",
    "    \n",
    "    # Map age group to integer\n",
    "    avg_age_mapping = {\n",
    "        '0-14': 7,\n",
    "        '15-24': 20,\n",
    "        '25-44': 33,\n",
    "        '45-64': 55,\n",
    "        '65+': 75\n",
    "    }\n",
    "    \n",
    "    # Map gender to integer\n",
    "    gender_mapping = {\n",
    "        'Male': 0,\n",
    "        'Female': 1\n",
    "    }\n",
    "\n",
    "    # Map ethnicity to integer\n",
    "    ethnicity_mapping = {\n",
    "        'Māori': 0,\n",
    "        'non-Māori': 1\n",
    "    }\n",
    "    \n",
    "    # Apply the mapping to the 'Age_Group' column\n",
    "    df['average_age'] = df['age'].map(avg_age_mapping)\n",
    "    df['gender_idx'] = df['gender'].map(gender_mapping)\n",
    "    df['ethnicity_idx'] = df['ethnicity'].map(ethnicity_mapping)\n",
    "    \n",
    "    # Impute missing values in 'average_age' with the mean\n",
    "    df['average_age'] = df['average_age'].fillna(df['average_age'].mean())\n",
    "    \n",
    "    # Impute missing values in 'gender_idx' and 'ethnicity_idx' with the mode\n",
    "    df['gender_idx'] = df['gender_idx'].fillna(df['gender_idx'].mode()[0])\n",
    "    df['ethnicity_idx'] = df['ethnicity_idx'].fillna(df['ethnicity_idx'].mode()[0])\n",
    "    \n",
    "    # Convert the specified columns to floats\n",
    "    df[['tax_increase', 'outlet_reduction', 'dec_smoking_prevalence', \n",
    "        'dec_tobacco_supply', 'dec_smoking_uptake', 'qalys_pc']] = df[['tax_increase', 'outlet_reduction', \n",
    "        'dec_smoking_prevalence', 'dec_tobacco_supply', 'dec_smoking_uptake', 'qalys_pc']].apply(pd.to_numeric, errors='coerce').astype('float')\n",
    "    \n",
    "    # Columns to be used for model building\n",
    "    df_vape = df[['tax_increase', 'outlet_reduction', 'dec_smoking_prevalence', \n",
    "                  'dec_tobacco_supply', 'dec_smoking_uptake', 'average_age', \n",
    "                  'gender_idx', 'ethnicity_idx', 'qalys_pc', 'hs_costs_pc']]\n",
    "    return df_vape"
   ]
  },
  {
   "cell_type": "code",
   "execution_count": 15,
   "id": "87444817-f500-4a74-939a-b018f2c3a84c",
   "metadata": {},
   "outputs": [
    {
     "name": "stdout",
     "output_type": "stream",
     "text": [
      "Test MAPE for Linear Regression Model: 2.3327569526580225\n"
     ]
    }
   ],
   "source": [
    "from sklearn.model_selection import train_test_split\n",
    "from sklearn.linear_model import LinearRegression\n",
    "from sklearn.metrics import mean_absolute_percentage_error as mape\n",
    "\n",
    "df = prepare_df()\n",
    "columns = ['tax_increase', 'outlet_reduction', 'dec_smoking_prevalence', \n",
    "              'dec_tobacco_supply', 'dec_smoking_uptake', 'average_age', \n",
    "              'gender_idx', 'ethnicity_idx']\n",
    "    \n",
    "X = df[columns]\n",
    "y = df[['qalys_pc']]\n",
    "# Train Test Split\n",
    "X_train, X_test, y_train, y_test = train_test_split(X, y, test_size=0.25, random_state=42)\n",
    "y_flat = y_train.values.flatten() # Ensure that y is a 1D array for compatibility\n",
    "\n",
    "lr_model, lr_test_mape = build_lr(X_train, X_test, y_flat, y_test)"
   ]
  },
  {
   "cell_type": "code",
   "execution_count": 24,
   "id": "0c233e89-504b-4fa9-905e-897ecc4296ee",
   "metadata": {},
   "outputs": [],
   "source": []
  },
  {
   "cell_type": "code",
   "execution_count": 25,
   "id": "22303909-be9b-415b-a7a3-e2443a760986",
   "metadata": {},
   "outputs": [
    {
     "data": {
      "text/plain": [
       "array([ 42.31504658,  41.12024592,  39.92544525,  18.51595231,\n",
       "         7.86528718,  45.74392857,  44.5491279 ,  43.35432724,\n",
       "        21.9448343 ,  11.29416916, 126.3156118 , 125.12081113,\n",
       "       123.92601047,  68.96603201,  43.08231341, 129.74449378,\n",
       "       128.54969312, 127.35489245,  72.39491399,  46.5111954 ])"
      ]
     },
     "execution_count": 25,
     "metadata": {},
     "output_type": "execute_result"
    }
   ],
   "source": [
    "lr_model.predict(df_vape)"
   ]
  },
  {
   "cell_type": "code",
   "execution_count": null,
   "id": "568532d8-098d-4021-a6ad-0881e759c8e3",
   "metadata": {},
   "outputs": [],
   "source": []
  }
 ],
 "metadata": {
  "kernelspec": {
   "display_name": "Python 3 (ipykernel)",
   "language": "python",
   "name": "python3"
  },
  "language_info": {
   "codemirror_mode": {
    "name": "ipython",
    "version": 3
   },
   "file_extension": ".py",
   "mimetype": "text/x-python",
   "name": "python",
   "nbconvert_exporter": "python",
   "pygments_lexer": "ipython3",
   "version": "3.12.5"
  }
 },
 "nbformat": 4,
 "nbformat_minor": 5
}
